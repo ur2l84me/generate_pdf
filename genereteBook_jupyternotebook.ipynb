{
 "cells": [
  {
   "cell_type": "code",
   "execution_count": 1,
   "metadata": {},
   "outputs": [],
   "source": [
    "from helperfunctions import extract_matrices_from_file\n",
    "from generate_pdf import generate_pdf \n",
    "from generate_sudoku_one_per_page_pdf import generate_single_page\n",
    "from reportlab.lib.units import inch\n",
    "import yaml"
   ]
  },
  {
   "cell_type": "code",
   "execution_count": 2,
   "metadata": {},
   "outputs": [],
   "source": [
    "docname = 'sudoku_puzzles_large_print_book1_easy_Raetsel.pdf'\n",
    "subtitle = 'Puzzle'\n",
    "subsubtitle = 'Easy'\n",
    "file_path = '../sudoku-generator/sudoku_puzzles_large_print_book1_easy.txt'\n",
    "conf_typ = 'largePrint'\n",
    "pdf_typ = 'puzzle'  # Puzzel or solution\n"
   ]
  },
  {
   "cell_type": "code",
   "execution_count": 3,
   "metadata": {},
   "outputs": [],
   "source": [
    "yamlpath = 'config.yml'\n",
    "\n",
    "with open(yamlpath, encoding='utf8') as file:\n",
    "    config= yaml.full_load(file)\n",
    "\n",
    "config = config[conf_typ]['puzzle']\n",
    "tables_per_row = config['tables_per_row']\n",
    "num_tables_per_page = config['num_tables_per_page']\n",
    "margin = config['margin'] * inch \n",
    "table_font_size = config['table_font_size']\n",
    "linesize = config['linesize'] \n",
    "subtitle_size = config['subtitle_size']\n",
    "width = config['width'] * inch \n",
    "height = config['height']   * inch \n",
    "pdf_typ = config['pdf_typ'] \n",
    "\n",
    "\n"
   ]
  },
  {
   "cell_type": "code",
   "execution_count": 4,
   "metadata": {},
   "outputs": [
    {
     "data": {
      "text/plain": [
       "24"
      ]
     },
     "execution_count": 4,
     "metadata": {},
     "output_type": "execute_result"
    }
   ],
   "source": [
    "config\n",
    "table_font_size"
   ]
  },
  {
   "cell_type": "code",
   "execution_count": 5,
   "metadata": {},
   "outputs": [
    {
     "name": "stdout",
     "output_type": "stream",
     "text": [
      "col:\n",
      "0\n",
      "col:\n",
      "0\n",
      "col:\n",
      "0\n",
      "col:\n",
      "0\n",
      "col:\n",
      "0\n",
      "col:\n",
      "0\n",
      "col:\n",
      "0\n",
      "col:\n",
      "0\n",
      "col:\n",
      "0\n",
      "col:\n",
      "0\n",
      "col:\n",
      "0\n",
      "col:\n",
      "0\n",
      "col:\n",
      "0\n",
      "col:\n",
      "0\n",
      "col:\n",
      "0\n",
      "col:\n",
      "0\n",
      "col:\n",
      "0\n",
      "col:\n",
      "0\n",
      "col:\n",
      "0\n",
      "col:\n",
      "0\n",
      "col:\n",
      "0\n",
      "col:\n",
      "0\n",
      "col:\n",
      "0\n",
      "col:\n",
      "0\n",
      "col:\n",
      "0\n",
      "col:\n",
      "0\n",
      "col:\n",
      "0\n",
      "col:\n",
      "0\n",
      "col:\n",
      "0\n",
      "col:\n",
      "0\n",
      "col:\n",
      "0\n",
      "col:\n",
      "0\n",
      "col:\n",
      "0\n",
      "col:\n",
      "0\n",
      "col:\n",
      "0\n",
      "col:\n",
      "0\n",
      "col:\n",
      "0\n",
      "col:\n",
      "0\n",
      "col:\n",
      "0\n",
      "col:\n",
      "0\n",
      "col:\n",
      "0\n",
      "col:\n",
      "0\n",
      "col:\n",
      "0\n",
      "col:\n",
      "0\n",
      "col:\n",
      "0\n",
      "col:\n",
      "0\n",
      "col:\n",
      "0\n",
      "col:\n",
      "0\n",
      "col:\n",
      "0\n",
      "col:\n",
      "0\n",
      "col:\n",
      "0\n",
      "col:\n",
      "0\n",
      "col:\n",
      "0\n",
      "col:\n",
      "0\n",
      "col:\n",
      "0\n"
     ]
    }
   ],
   "source": [
    "matrices = extract_matrices_from_file(file_path, typ = pdf_typ)\n",
    "generate_pdf(docname=docname, \n",
    "             width=width, \n",
    "             height=height, \n",
    "             margin=margin, \n",
    "             matrices=matrices,\n",
    "             subtitle=subtitle, \n",
    "             subsubtitle=subsubtitle,\n",
    "             num_tables_per_page=num_tables_per_page,\n",
    "             tables_per_row=tables_per_row,\n",
    "             table_font_size=table_font_size,\n",
    "             linesize=linesize)\n",
    "\n",
    "\n",
    "\n"
   ]
  },
  {
   "cell_type": "code",
   "execution_count": null,
   "metadata": {},
   "outputs": [],
   "source": []
  }
 ],
 "metadata": {
  "kernelspec": {
   "display_name": "Python 3.10.6 64-bit",
   "language": "python",
   "name": "python3"
  },
  "language_info": {
   "codemirror_mode": {
    "name": "ipython",
    "version": 3
   },
   "file_extension": ".py",
   "mimetype": "text/x-python",
   "name": "python",
   "nbconvert_exporter": "python",
   "pygments_lexer": "ipython3",
   "version": "3.10.6"
  },
  "orig_nbformat": 4,
  "vscode": {
   "interpreter": {
    "hash": "aee8b7b246df8f9039afb4144a1f6fd8d2ca17a180786b69acc140d282b71a49"
   }
  }
 },
 "nbformat": 4,
 "nbformat_minor": 2
}
